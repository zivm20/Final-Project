{
 "cells": [
  {
   "cell_type": "code",
   "execution_count": 1,
   "metadata": {},
   "outputs": [],
   "source": [
    "#imports\n",
    "import pandas as pd\n",
    "import numpy as np"
   ]
  },
  {
   "cell_type": "code",
   "execution_count": 2,
   "metadata": {},
   "outputs": [],
   "source": [
    "#prints number in binary, octal, and hexadecimal\n",
    "def convertNumBase(n):\n",
    "    #remove the 0b from binary, 0o from octal and 0x from hexadecimal numbers\n",
    "    b2 = bin(n)[2:]\n",
    "    b8 = oct(n)[2:]\n",
    "    b16 = hex(n)[2:]\n",
    "    print(b2)\n",
    "    print(b8)\n",
    "    print(b16)"
   ]
  },
  {
   "cell_type": "code",
   "execution_count": 3,
   "metadata": {},
   "outputs": [],
   "source": [
    "#load data\n",
    "cast = pd.read_csv('data/cast.csv')"
   ]
  },
  {
   "cell_type": "code",
   "execution_count": 4,
   "metadata": {},
   "outputs": [
    {
     "data": {
      "text/plain": [
       "299"
      ]
     },
     "execution_count": 4,
     "metadata": {},
     "output_type": "execute_result"
    }
   ],
   "source": [
    "#counts the occurrences of each value in title and holds the values in a series then gets the element with the key Hamlet\n",
    "cast['title'].value_counts()[\"Hamlet\"]"
   ]
  },
  {
   "cell_type": "code",
   "execution_count": 5,
   "metadata": {},
   "outputs": [],
   "source": [
    "#make a groupbyObject of all the movies\n",
    "movies = cast.groupby(cast['title'])"
   ]
  },
  {
   "cell_type": "code",
   "execution_count": 6,
   "metadata": {},
   "outputs": [
    {
     "data": {
      "text/html": [
       "<div>\n",
       "<style scoped>\n",
       "    .dataframe tbody tr th:only-of-type {\n",
       "        vertical-align: middle;\n",
       "    }\n",
       "\n",
       "    .dataframe tbody tr th {\n",
       "        vertical-align: top;\n",
       "    }\n",
       "\n",
       "    .dataframe thead th {\n",
       "        text-align: right;\n",
       "    }\n",
       "</style>\n",
       "<table border=\"1\" class=\"dataframe\">\n",
       "  <thead>\n",
       "    <tr style=\"text-align: right;\">\n",
       "      <th></th>\n",
       "      <th>title</th>\n",
       "      <th>year</th>\n",
       "      <th>name</th>\n",
       "      <th>type</th>\n",
       "      <th>character</th>\n",
       "      <th>n</th>\n",
       "    </tr>\n",
       "  </thead>\n",
       "  <tbody>\n",
       "    <tr>\n",
       "      <th>1312766</th>\n",
       "      <td>Treasure Island</td>\n",
       "      <td>1918</td>\n",
       "      <td>Herschel Mayall</td>\n",
       "      <td>actor</td>\n",
       "      <td>Prologue Player</td>\n",
       "      <td>NaN</td>\n",
       "    </tr>\n",
       "    <tr>\n",
       "      <th>3280557</th>\n",
       "      <td>Treasure Island</td>\n",
       "      <td>1918</td>\n",
       "      <td>Eleanor Washington</td>\n",
       "      <td>actress</td>\n",
       "      <td>Prologue Player</td>\n",
       "      <td>NaN</td>\n",
       "    </tr>\n",
       "    <tr>\n",
       "      <th>3046750</th>\n",
       "      <td>Treasure Island</td>\n",
       "      <td>1918</td>\n",
       "      <td>Violet Radcliffe</td>\n",
       "      <td>actress</td>\n",
       "      <td>Long John Silver</td>\n",
       "      <td>3.0</td>\n",
       "    </tr>\n",
       "    <tr>\n",
       "      <th>1167783</th>\n",
       "      <td>Treasure Island</td>\n",
       "      <td>1918</td>\n",
       "      <td>Raymond Lee</td>\n",
       "      <td>actor</td>\n",
       "      <td>Bit Role</td>\n",
       "      <td>NaN</td>\n",
       "    </tr>\n",
       "    <tr>\n",
       "      <th>1195421</th>\n",
       "      <td>Treasure Island</td>\n",
       "      <td>1918</td>\n",
       "      <td>Elmo Lincoln</td>\n",
       "      <td>actor</td>\n",
       "      <td>Prologue Player</td>\n",
       "      <td>NaN</td>\n",
       "    </tr>\n",
       "    <tr>\n",
       "      <th>...</th>\n",
       "      <td>...</td>\n",
       "      <td>...</td>\n",
       "      <td>...</td>\n",
       "      <td>...</td>\n",
       "      <td>...</td>\n",
       "      <td>...</td>\n",
       "    </tr>\n",
       "    <tr>\n",
       "      <th>1663860</th>\n",
       "      <td>Treasure Island</td>\n",
       "      <td>1999</td>\n",
       "      <td>Victor Raider-Wexler</td>\n",
       "      <td>actor</td>\n",
       "      <td>Samowitz</td>\n",
       "      <td>10.0</td>\n",
       "    </tr>\n",
       "    <tr>\n",
       "      <th>1731182</th>\n",
       "      <td>Treasure Island</td>\n",
       "      <td>1999</td>\n",
       "      <td>Scot Thomas Robinson</td>\n",
       "      <td>actor</td>\n",
       "      <td>Jimmy</td>\n",
       "      <td>11.0</td>\n",
       "    </tr>\n",
       "    <tr>\n",
       "      <th>1813707</th>\n",
       "      <td>Treasure Island</td>\n",
       "      <td>1999</td>\n",
       "      <td>Richard Schave</td>\n",
       "      <td>actor</td>\n",
       "      <td>Man</td>\n",
       "      <td>21.0</td>\n",
       "    </tr>\n",
       "    <tr>\n",
       "      <th>2710458</th>\n",
       "      <td>Treasure Island</td>\n",
       "      <td>1999</td>\n",
       "      <td>Stephanie Ittleson</td>\n",
       "      <td>actress</td>\n",
       "      <td>Stella</td>\n",
       "      <td>7.0</td>\n",
       "    </tr>\n",
       "    <tr>\n",
       "      <th>815338</th>\n",
       "      <td>Treasure Island</td>\n",
       "      <td>1999</td>\n",
       "      <td>Rio Hackford</td>\n",
       "      <td>actor</td>\n",
       "      <td>Hans</td>\n",
       "      <td>23.0</td>\n",
       "    </tr>\n",
       "  </tbody>\n",
       "</table>\n",
       "<p>187 rows × 6 columns</p>\n",
       "</div>"
      ],
      "text/plain": [
       "                   title  year                  name     type  \\\n",
       "1312766  Treasure Island  1918       Herschel Mayall    actor   \n",
       "3280557  Treasure Island  1918    Eleanor Washington  actress   \n",
       "3046750  Treasure Island  1918      Violet Radcliffe  actress   \n",
       "1167783  Treasure Island  1918           Raymond Lee    actor   \n",
       "1195421  Treasure Island  1918          Elmo Lincoln    actor   \n",
       "...                  ...   ...                   ...      ...   \n",
       "1663860  Treasure Island  1999  Victor Raider-Wexler    actor   \n",
       "1731182  Treasure Island  1999  Scot Thomas Robinson    actor   \n",
       "1813707  Treasure Island  1999        Richard Schave    actor   \n",
       "2710458  Treasure Island  1999    Stephanie Ittleson  actress   \n",
       "815338   Treasure Island  1999          Rio Hackford    actor   \n",
       "\n",
       "                character     n  \n",
       "1312766   Prologue Player   NaN  \n",
       "3280557   Prologue Player   NaN  \n",
       "3046750  Long John Silver   3.0  \n",
       "1167783          Bit Role   NaN  \n",
       "1195421   Prologue Player   NaN  \n",
       "...                   ...   ...  \n",
       "1663860          Samowitz  10.0  \n",
       "1731182             Jimmy  11.0  \n",
       "1813707               Man  21.0  \n",
       "2710458            Stella   7.0  \n",
       "815338               Hans  23.0  \n",
       "\n",
       "[187 rows x 6 columns]"
      ]
     },
     "execution_count": 6,
     "metadata": {},
     "output_type": "execute_result"
    }
   ],
   "source": [
    "#get all the Treasure Island movies data, and sort by year\n",
    "movies.get_group(\"Treasure Island\").sort_values(\"year\")"
   ]
  },
  {
   "cell_type": "code",
   "execution_count": 7,
   "metadata": {},
   "outputs": [
    {
     "data": {
      "text/plain": [
       "9"
      ]
     },
     "execution_count": 7,
     "metadata": {},
     "output_type": "execute_result"
    }
   ],
   "source": [
    "#get all the Hamlet movies data and count the unique values in the year column, return the value from the year 1921\n",
    "movies.get_group(\"Hamlet\")['year'].value_counts()[1921]"
   ]
  },
  {
   "cell_type": "code",
   "execution_count": 8,
   "metadata": {},
   "outputs": [
    {
     "data": {
      "image/png": "[encoded data removed]",
      "text/plain": [
       "<Figure size 432x288 with 1 Axes>"
      ]
     },
     "metadata": {
      "needs_background": "light"
     },
     "output_type": "display_data"
    }
   ],
   "source": [
    "#get all the decades from the year coulmn of all the hamlet movies\n",
    "data = movies.get_group(\"Hamlet\")['year'] - movies.get_group(\"Hamlet\")['year']%10\n",
    "#plot the amount of times each decade is shown in data using the bar setting\n",
    "df = pd.Series(data.value_counts()).plot(kind=\"bar\")"
   ]
  },
  {
   "cell_type": "code",
   "execution_count": 9,
   "metadata": {},
   "outputs": [
    {
     "name": "stdout",
     "output_type": "stream",
     "text": [
      "number of roles for actors 6388 \n",
      "number of roles for Actresses 2813\n"
     ]
    },
    {
     "name": "stderr",
     "output_type": "stream",
     "text": [
      "E:\\python\\lib\\site-packages\\ipykernel_launcher.py:2: UserWarning: Boolean Series key will be reindexed to match DataFrame index.\n",
      "  \n",
      "E:\\python\\lib\\site-packages\\ipykernel_launcher.py:4: UserWarning: Boolean Series key will be reindexed to match DataFrame index.\n",
      "  after removing the cwd from sys.path.\n",
      "E:\\python\\lib\\site-packages\\ipykernel_launcher.py:5: UserWarning: Boolean Series key will be reindexed to match DataFrame index.\n",
      "  \"\"\"\n"
     ]
    }
   ],
   "source": [
    "#get all the movies in the 1950s\n",
    "subCast = cast[cast['year']<1960][cast['year']>=1950]\n",
    "#get the length of the dataframe containing all the 1950s and have n=1, and the type is actor/actress\n",
    "numActors = len(subCast[subCast['n']==1][subCast['type']==\"actor\"].index)\n",
    "numActresses = len(subCast[subCast['n']==1][subCast['type']==\"actress\"].index)\n",
    "print(\"number of roles for actors\",numActors,\"\\nnumber of roles for Actresses\",numActresses)\n"
   ]
  },
  {
   "cell_type": "code",
   "execution_count": 10,
   "metadata": {},
   "outputs": [
    {
     "name": "stderr",
     "output_type": "stream",
     "text": [
      "E:\\python\\lib\\site-packages\\ipykernel_launcher.py:2: UserWarning: Boolean Series key will be reindexed to match DataFrame index.\n",
      "  \n"
     ]
    },
    {
     "data": {
      "text/plain": [
       "Mohanlal              126\n",
       "Mammootty             118\n",
       "Akshay Kumar           87\n",
       "Jayaram                76\n",
       "Andy Lau               72\n",
       "Ajay Devgn             69\n",
       "Amitabh Bachchan       68\n",
       "Eric Roberts           68\n",
       "Nagarjuna Akkineni     60\n",
       "Dilip                  59\n",
       "Name: name, dtype: int64"
      ]
     },
     "execution_count": 10,
     "metadata": {},
     "output_type": "execute_result"
    }
   ],
   "source": [
    "#get a dataframe of all the movies since 1990 and have n=1 \n",
    "subCast = cast[cast['year']>=1990][cast['n']==1]\n",
    "#count unique names, the function returns a sorted series so we only need the 10 first values\n",
    "subCast[\"name\"].value_counts()[:10]\n"
   ]
  },
  {
   "cell_type": "code",
   "execution_count": 11,
   "metadata": {},
   "outputs": [
    {
     "data": {
      "text/plain": [
       "title\n",
       "The Muppet Movie                            1979\n",
       "An American Werewolf in London              1981\n",
       "The Great Muppet Caper                      1981\n",
       "The Dark Crystal                            1982\n",
       "The Muppets Take Manhattan                  1984\n",
       "Sesame Street Presents: Follow that Bird    1985\n",
       "The Muppet Christmas Carol                  1992\n",
       "Muppet Treasure Island                      1996\n",
       "Muppets from Space                          1999\n",
       "The Adventures of Elmo in Grouchland        1999\n",
       "Name: year, dtype: int64"
      ]
     },
     "execution_count": 11,
     "metadata": {},
     "output_type": "execute_result"
    }
   ],
   "source": [
    "#get all the movies with frank oz\n",
    "subCast = cast[cast[\"name\"]==\"Frank Oz\"]\n",
    "#get all the movies titles where frank oz played more than 1 role\n",
    "amountPerMovie = (subCast[\"title\"].value_counts()>1)\n",
    "amountPerMovie = amountPerMovie[amountPerMovie==True]\n",
    "#new dataframe to store the required data\n",
    "data = pd.DataFrame(columns = subCast.columns)\n",
    "#for all the movies titles where frank oz played more than 1 role append to the new dataframe\n",
    "for inx in amountPerMovie.index:\n",
    "    data = data.append(subCast[subCast[\"title\"]==inx])\n",
    "\n",
    "#group all the data by title and get only one sample per movie, then sort the data by year and get the year column\n",
    "data.groupby(\"title\").first().sort_values(\"year\")[\"year\"]"
   ]
  }
 ],
 "metadata": {
  "kernelspec": {
   "display_name": "Python 3",
   "language": "python",
   "name": "python3"
  },
  "language_info": {
   "codemirror_mode": {
    "name": "ipython",
    "version": 3
   },
   "file_extension": ".py",
   "mimetype": "text/x-python",
   "name": "python",
   "nbconvert_exporter": "python",
   "pygments_lexer": "ipython3",
   "version": "3.7.6"
  }
 },
 "nbformat": 4,
 "nbformat_minor": 2
}
